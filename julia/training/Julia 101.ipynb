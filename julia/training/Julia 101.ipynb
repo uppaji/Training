{
 "cells": [
  {
   "cell_type": "code",
   "execution_count": 3,
   "metadata": {},
   "outputs": [
    {
     "name": "stdout",
     "output_type": "stream",
     "text": [
      "Hello World!\n"
     ]
    }
   ],
   "source": [
    "println(\"Hello World!\")\n"
   ]
  },
  {
   "cell_type": "code",
   "execution_count": 31,
   "metadata": {},
   "outputs": [
    {
     "data": {
      "text/plain": [
       "surfaceAreaCylinder (generic function with 1 method)"
      ]
     },
     "execution_count": 31,
     "metadata": {},
     "output_type": "execute_result"
    }
   ],
   "source": [
    "# Function to calculate the perimeter of a Square\n",
    "squarePerimeter(l) = 4l\n",
    "\n",
    "\n",
    "# Function to calculate the perimeter of a Rectangle\n",
    "rectanglePerimeter(l, h) = 2l + 2h\n",
    "\n",
    "#Calculate Surface Ara of a Cube\n",
    "\n",
    "surfaceAreaCube(l) = 6l^2\n",
    "\n",
    "#Calculate Surface Area of Cylinder\n",
    "surfaceAreaCylinder(r,h) = 2π*r*h"
   ]
  },
  {
   "cell_type": "code",
   "execution_count": 32,
   "metadata": {},
   "outputs": [
    {
     "data": {
      "text/plain": [
       "37.69911184307752"
      ]
     },
     "execution_count": 32,
     "metadata": {},
     "output_type": "execute_result"
    }
   ],
   "source": [
    "surfaceAreaCylinder(2,3)\n"
   ]
  }
 ],
 "metadata": {
  "kernelspec": {
   "display_name": "Julia 1.0.0",
   "language": "julia",
   "name": "julia-1.0"
  },
  "language_info": {
   "file_extension": ".jl",
   "mimetype": "application/julia",
   "name": "julia",
   "version": "1.0.0"
  }
 },
 "nbformat": 4,
 "nbformat_minor": 2
}
